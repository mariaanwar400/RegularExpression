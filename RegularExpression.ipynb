{
 "cells": [
  {
   "cell_type": "code",
   "execution_count": 109,
   "id": "cb340c7f-51dd-4d05-a1fb-0a7de90c196d",
   "metadata": {},
   "outputs": [
    {
     "name": "stdout",
     "output_type": "stream",
     "text": [
      "['ai', 'ai']\n"
     ]
    }
   ],
   "source": [
    "import re\n",
    "import pandas as pd\n",
    "txt = \"The rain in Spain\"\n",
    "x = re.findall(\"ai\", txt)\n",
    "print(x)"
   ]
  },
  {
   "cell_type": "code",
   "execution_count": 2,
   "id": "d1a42c00-f6b2-4f25-8c89-664876286c6b",
   "metadata": {},
   "outputs": [
    {
     "name": "stdout",
     "output_type": "stream",
     "text": [
      "[]\n"
     ]
    }
   ],
   "source": [
    "x = re.findall(\"Portugal\", txt)\n",
    "print(x)"
   ]
  },
  {
   "cell_type": "code",
   "execution_count": 20,
   "id": "8ea0bee9-720f-4c3d-8db0-52013348d956",
   "metadata": {},
   "outputs": [
    {
     "name": "stdout",
     "output_type": "stream",
     "text": [
      "<re.Match object; span=(3, 4), match=' '>\n",
      "The first white-space character is located in position: 3\n"
     ]
    }
   ],
   "source": [
    "x = re.search(\"\\s\", txt)\n",
    "print(x)\n",
    "print(\"The first white-space character is located in position:\", x.start())"
   ]
  },
  {
   "cell_type": "code",
   "execution_count": 26,
   "id": "90c9ee63-a594-405b-9ef7-275fa4410625",
   "metadata": {},
   "outputs": [
    {
     "name": "stdout",
     "output_type": "stream",
     "text": [
      "No dash found in the text\n"
     ]
    }
   ],
   "source": [
    "txt = \"The rain in Spain\"\n",
    "\n",
    "# Search for a dash\n",
    "x = re.search(\"-\", txt)\n",
    "\n",
    "if x:\n",
    "    print(\"The first dash is located at position:\", x.start())\n",
    "else:\n",
    "    print(\"No dash found in the text\")\n"
   ]
  },
  {
   "cell_type": "code",
   "execution_count": 27,
   "id": "195d0826-f86f-46f9-874d-35ba36fb6020",
   "metadata": {},
   "outputs": [
    {
     "name": "stdout",
     "output_type": "stream",
     "text": [
      "['The', 'rain', 'in', 'Spain']\n"
     ]
    }
   ],
   "source": [
    "txt = \"The rain in Spain\"\n",
    "x = re.split(\"\\s\", txt)\n",
    "print(x)\n"
   ]
  },
  {
   "cell_type": "code",
   "execution_count": 35,
   "id": "28ee1ce2-ba9f-40fc-8935-e6765427962f",
   "metadata": {},
   "outputs": [
    {
     "name": "stdout",
     "output_type": "stream",
     "text": [
      "['The', 'rain in Spain']\n"
     ]
    },
    {
     "name": "stderr",
     "output_type": "stream",
     "text": [
      "C:\\Users\\World\\AppData\\Local\\Temp\\ipykernel_25196\\2120594470.py:2: DeprecationWarning: 'maxsplit' is passed as positional argument\n",
      "  x = re.split(\"\\s\", txt,1)\n"
     ]
    }
   ],
   "source": [
    "txt = \"The rain in Spain\"\n",
    "x = re.split(\"\\s\", txt,1)\n",
    "print(x)"
   ]
  },
  {
   "cell_type": "code",
   "execution_count": 37,
   "id": "ad4d9486-54b6-4218-b3dd-95bdb34e8dc3",
   "metadata": {},
   "outputs": [
    {
     "name": "stdout",
     "output_type": "stream",
     "text": [
      "The9rain in Spain\n"
     ]
    },
    {
     "name": "stderr",
     "output_type": "stream",
     "text": [
      "C:\\Users\\World\\AppData\\Local\\Temp\\ipykernel_25196\\1140935488.py:2: DeprecationWarning: 'count' is passed as positional argument\n",
      "  x = re.sub(\"\\s\", \"9\", txt,1)\n"
     ]
    }
   ],
   "source": [
    "txt = \"The rain in Spain\"\n",
    "x = re.sub(\"\\s\", \"9\", txt,1)\n",
    "print(x)\n"
   ]
  },
  {
   "cell_type": "code",
   "execution_count": 41,
   "id": "78d82a8f-f4cd-4ec1-a480-cdb95f7e3d24",
   "metadata": {},
   "outputs": [
    {
     "name": "stdout",
     "output_type": "stream",
     "text": [
      "(6, 19)\n"
     ]
    },
    {
     "data": {
      "text/plain": [
       "'StackOverflow'"
      ]
     },
     "execution_count": 41,
     "metadata": {},
     "output_type": "execute_result"
    }
   ],
   "source": [
    "txt = \"Hello StackOverflow!\"\n",
    "x = re.search(r\"\\bS\\w+\", txt)\n",
    "print(x.span())\n",
    "txt[6:19]"
   ]
  },
  {
   "cell_type": "code",
   "execution_count": 43,
   "id": "bbcbb326-0008-473d-b3d8-75bf381d3ca5",
   "metadata": {},
   "outputs": [
    {
     "name": "stdout",
     "output_type": "stream",
     "text": [
      "The rain in Spain\n"
     ]
    }
   ],
   "source": [
    "x = re.search(r\"\\bS\\w+\", txt)\n",
    "print(x.string)"
   ]
  },
  {
   "cell_type": "code",
   "execution_count": 44,
   "id": "1dd9d5d7-f51e-4dec-8451-96234bafdd0c",
   "metadata": {},
   "outputs": [
    {
     "name": "stdout",
     "output_type": "stream",
     "text": [
      "Spain\n"
     ]
    }
   ],
   "source": [
    "txt = \"The rain in Spain\"\n",
    "x = re.search(r\"\\bS\\w+\", txt)\n",
    "print(x.group())"
   ]
  },
  {
   "cell_type": "code",
   "execution_count": null,
   "id": "4b1c9369-037a-436e-916a-f8ee659c46e7",
   "metadata": {},
   "outputs": [],
   "source": [
    "2️⃣ Backslash \\ – Special sequences / escape\n",
    "\n",
    "\\d → Matches any digit (0–9)\n",
    "\n",
    "\\D → Matches any non-digit\n",
    "\n",
    "\\s → Matches any whitespace\n",
    "\n",
    "\\S → Matches any non-whitespace\n",
    "\n",
    "\\w → Matches word character (letters, digits, underscore)\n",
    "\n",
    "\\W → Matches non-word character"
   ]
  },
  {
   "cell_type": "code",
   "execution_count": 45,
   "id": "5fddac6f-949b-4261-b60f-da046f8628ca",
   "metadata": {},
   "outputs": [
    {
     "name": "stdout",
     "output_type": "stream",
     "text": [
      "['1', '2', '3']\n",
      "['H', 'e', 'l', 'l', 'o', '1', '2', '3']\n"
     ]
    }
   ],
   "source": [
    "txt = \"Hello 123\"\n",
    "print(re.findall(r\"\\d\", txt)) \n",
    "print(re.findall(r\"\\w\", txt)) \n",
    "\n"
   ]
  },
  {
   "cell_type": "code",
   "execution_count": 46,
   "id": "6bcf81f7-3966-4cfb-87b1-8c1b5a603a90",
   "metadata": {},
   "outputs": [
    {
     "name": "stdout",
     "output_type": "stream",
     "text": [
      "['1', '2', '3', '4', '5', '6']\n",
      "['123', '456']\n"
     ]
    }
   ],
   "source": [
    "\n",
    "text = \"Order 123, item 456\"\n",
    "matches = re.findall(r'\\d', text)\n",
    "print(matches)  \n",
    "\n",
    "# To match full numbers instead of single digits\n",
    "numbers = re.findall(r'\\d+', text)\n",
    "print(numbers)"
   ]
  },
  {
   "cell_type": "code",
   "execution_count": 47,
   "id": "7ff53196-6c63-4f98-9c30-d6e32d202e11",
   "metadata": {},
   "outputs": [
    {
     "name": "stdout",
     "output_type": "stream",
     "text": [
      "['O', 'r', 'd', 'e', 'r', ' ', ',', ' ', 'i', 't', 'e', 'm', ' ']\n"
     ]
    }
   ],
   "source": [
    "text = \"Order 123, item 456\"\n",
    "matches = re.findall(r'\\D', text)\n",
    "print(matches)  "
   ]
  },
  {
   "cell_type": "code",
   "execution_count": 48,
   "id": "fda49518-1a44-4552-bc4b-3fbb23301666",
   "metadata": {},
   "outputs": [
    {
     "name": "stdout",
     "output_type": "stream",
     "text": [
      "['Order ', ', item ']\n"
     ]
    }
   ],
   "source": [
    "non_digits = re.findall(r'\\D+', text)\n",
    "print(non_digits) "
   ]
  },
  {
   "cell_type": "code",
   "execution_count": 49,
   "id": "c9f3e7eb-9c65-4e11-8147-f38dc1aa168a",
   "metadata": {},
   "outputs": [
    {
     "name": "stdout",
     "output_type": "stream",
     "text": [
      "[' ', '\\t', '\\n', ' ']\n"
     ]
    }
   ],
   "source": [
    "text = \"Hello \\tWorld\\nNew line\"\n",
    "matches = re.findall(r'\\s', text)\n",
    "print(matches)"
   ]
  },
  {
   "cell_type": "code",
   "execution_count": 50,
   "id": "ab8cbec8-27cc-4bd2-80da-5b54918b4f08",
   "metadata": {},
   "outputs": [
    {
     "name": "stdout",
     "output_type": "stream",
     "text": [
      "['Hello', 'World', 'New', 'line']\n"
     ]
    }
   ],
   "source": [
    "words = re.split(r'\\s+', text)\n",
    "print(words) "
   ]
  },
  {
   "cell_type": "code",
   "execution_count": 51,
   "id": "93a51a17-17b5-45e0-be43-27266a531a26",
   "metadata": {},
   "outputs": [
    {
     "name": "stdout",
     "output_type": "stream",
     "text": [
      "['H', 'e', 'l', 'l', 'o', 'W', 'o', 'r', 'l', 'd']\n"
     ]
    }
   ],
   "source": [
    "text = \"Hello \\tWorld\\n\"\n",
    "matches = re.findall(r'\\S', text)\n",
    "print(matches) "
   ]
  },
  {
   "cell_type": "code",
   "execution_count": 52,
   "id": "5f52e334-882c-41d2-9aba-9c94869bd6c8",
   "metadata": {},
   "outputs": [
    {
     "name": "stdout",
     "output_type": "stream",
     "text": [
      "['Hello', 'World']\n"
     ]
    }
   ],
   "source": [
    "non_spaces = re.findall(r'\\S+', text)\n",
    "print(non_spaces)"
   ]
  },
  {
   "cell_type": "code",
   "execution_count": 53,
   "id": "09cc8a05-aef1-411d-b3ec-b24b8d9a3fd4",
   "metadata": {},
   "outputs": [
    {
     "name": "stdout",
     "output_type": "stream",
     "text": [
      "['U', 's', 'e', 'r', '_', '1', '2', '3', 'l', 'o', 'g', 'g', 'e', 'd', 'i', 'n']\n"
     ]
    }
   ],
   "source": [
    "text = \"User_123 logged in!\"\n",
    "matches = re.findall(r'\\w', text)\n",
    "print(matches)"
   ]
  },
  {
   "cell_type": "code",
   "execution_count": 54,
   "id": "671a30fe-4214-47de-9d1e-26795decbbad",
   "metadata": {},
   "outputs": [
    {
     "name": "stdout",
     "output_type": "stream",
     "text": [
      "['User_123', 'logged', 'in']\n"
     ]
    }
   ],
   "source": [
    "words = re.findall(r'\\w+', text)\n",
    "print(words) "
   ]
  },
  {
   "cell_type": "code",
   "execution_count": 55,
   "id": "2e9050a7-1b24-4c96-8130-a4bc5e9097b7",
   "metadata": {
    "jupyter": {
     "source_hidden": true
    }
   },
   "outputs": [
    {
     "name": "stdout",
     "output_type": "stream",
     "text": [
      "[' ', ' ', '!']\n"
     ]
    }
   ],
   "source": [
    "text = \"User_123 logged in!\"\n",
    "matches = re.findall(r'\\W', text)\n",
    "print(matches)"
   ]
  },
  {
   "cell_type": "code",
   "execution_count": 57,
   "id": "eecefd6f-5ddc-4dc4-b8c1-ccf799affcde",
   "metadata": {},
   "outputs": [
    {
     "name": "stdout",
     "output_type": "stream",
     "text": [
      "[' ', ' ', '!']\n"
     ]
    }
   ],
   "source": [
    "non_words = re.findall(r'\\W+', text)\n",
    "print(non_words)"
   ]
  },
  {
   "cell_type": "code",
   "execution_count": null,
   "id": "826212ab-01d2-4f4f-a7c4-0a9435e3c914",
   "metadata": {},
   "outputs": [],
   "source": [
    "Dot . – Any character except newline"
   ]
  },
  {
   "cell_type": "code",
   "execution_count": 63,
   "id": "b3298903-0abc-43ac-8ec7-5414b3e0011d",
   "metadata": {},
   "outputs": [
    {
     "name": "stdout",
     "output_type": "stream",
     "text": [
      "['hello', 'hello', 'hello']\n"
     ]
    }
   ],
   "source": [
    "txt = \"hello hello helloworld\"\n",
    "x = re.findall(\"he..o\", txt)\n",
    "print(x)"
   ]
  },
  {
   "cell_type": "code",
   "execution_count": null,
   "id": "d8fad21a-6a21-4242-afa4-1abe21a9bce8",
   "metadata": {},
   "outputs": [],
   "source": [
    "Caret ^ – Starts with"
   ]
  },
  {
   "cell_type": "code",
   "execution_count": 66,
   "id": "19651146-eead-4567-907f-5786236b5539",
   "metadata": {},
   "outputs": [
    {
     "name": "stdout",
     "output_type": "stream",
     "text": [
      "['hello']\n"
     ]
    }
   ],
   "source": [
    "txt = \"hello world hello boy\"\n",
    "x = re.findall(\"^hello\", txt)\n",
    "print(x)\n"
   ]
  },
  {
   "cell_type": "code",
   "execution_count": 69,
   "id": "ff8fc260-96d1-4106-910f-1ba35a599855",
   "metadata": {},
   "outputs": [
    {
     "name": "stdout",
     "output_type": "stream",
     "text": [
      "['planet']\n"
     ]
    }
   ],
   "source": [
    "txt = \"welcome to the planet\"\n",
    "x = re.findall(\"planet$\", txt)\n",
    "print(x)"
   ]
  },
  {
   "cell_type": "code",
   "execution_count": null,
   "id": "813e8d61-c775-4222-b809-223fc2ce1087",
   "metadata": {},
   "outputs": [],
   "source": [
    "Star * – Zero or more occurrences of character at *"
   ]
  },
  {
   "cell_type": "code",
   "execution_count": 70,
   "id": "648a6570-d9f7-4045-8507-7ad852e14571",
   "metadata": {},
   "outputs": [
    {
     "name": "stdout",
     "output_type": "stream",
     "text": [
      "['heo heeeo heo']\n"
     ]
    }
   ],
   "source": [
    "txt = \"heo heeeo heo\"\n",
    "x = re.findall(\"he.*o\", txt)\n",
    "print(x)"
   ]
  },
  {
   "cell_type": "code",
   "execution_count": null,
   "id": "b53e077d-993e-41e8-a726-08d46718f5e7",
   "metadata": {},
   "outputs": [],
   "source": [
    "Plus + – One or more occurrences of charater at +"
   ]
  },
  {
   "cell_type": "code",
   "execution_count": 83,
   "id": "56c23c8c-2820-4139-81e3-9d471367623d",
   "metadata": {},
   "outputs": [
    {
     "name": "stdout",
     "output_type": "stream",
     "text": [
      "['heeeo']\n"
     ]
    }
   ],
   "source": [
    "txt = \"ho heeeo ho\"\n",
    "x = re.findall(\"he.+?o\", txt)\n",
    "print(x)"
   ]
  },
  {
   "cell_type": "code",
   "execution_count": 90,
   "id": "11507a23-c216-4884-bf0a-43529ac97f1e",
   "metadata": {},
   "outputs": [
    {
     "name": "stdout",
     "output_type": "stream",
     "text": [
      "['hello', 'hllo', 'ello']\n"
     ]
    }
   ],
   "source": [
    "txt = \"hello hllo ello\"\n",
    "x = re.findall(\"h?e?llo\", txt)\n",
    "print(x)"
   ]
  },
  {
   "cell_type": "code",
   "execution_count": 91,
   "id": "42428797-cb39-44ae-922b-f977414e744a",
   "metadata": {},
   "outputs": [
    {
     "name": "stdout",
     "output_type": "stream",
     "text": [
      "['heeeo']\n"
     ]
    }
   ],
   "source": [
    "txt = \"heeeo heeo heo\"\n",
    "x = re.findall(\"he.{2}o\", txt)\n",
    "print(x)\n"
   ]
  },
  {
   "cell_type": "code",
   "execution_count": 92,
   "id": "5d30f705-fe93-4d5a-851a-055024beb96d",
   "metadata": {},
   "outputs": [
    {
     "name": "stdout",
     "output_type": "stream",
     "text": [
      "['falls', 'stays']\n"
     ]
    }
   ],
   "source": [
    "txt = \"It falls or it stays\"\n",
    "x = re.findall(\"falls|stays\", txt)\n",
    "print(x)\n"
   ]
  },
  {
   "cell_type": "code",
   "execution_count": 93,
   "id": "af4c02b3-cbe9-41a3-b1d6-76c275771ad6",
   "metadata": {},
   "outputs": [
    {
     "name": "stdout",
     "output_type": "stream",
     "text": [
      "[('John', '25'), ('Alice', '30')]\n"
     ]
    }
   ],
   "source": [
    "txt = \"John: 25, Alice: 30\"\n",
    "x = re.findall(r\"(\\w+): (\\d+)\", txt)\n",
    "print(x)\n"
   ]
  },
  {
   "cell_type": "code",
   "execution_count": null,
   "id": "68b7580e-f00d-4c6c-8045-5e38d9a5d258",
   "metadata": {},
   "outputs": [],
   "source": [
    "\\b – Word boundary if put first then only ,match start and if put at end then match fraom start to end "
   ]
  },
  {
   "cell_type": "code",
   "execution_count": 99,
   "id": "3a92f28e-4098-4921-9227-0d6ffe03b097",
   "metadata": {},
   "outputs": [
    {
     "name": "stdout",
     "output_type": "stream",
     "text": [
      "[]\n",
      "['ain', 'ain']\n"
     ]
    }
   ],
   "source": [
    "txt = \"bain in Spain\"\n",
    "print(re.findall(r\"\\bain\", txt))  \n",
    "print(re.findall(r\"ain\\b\", txt)) \n",
    "  \n"
   ]
  },
  {
   "cell_type": "code",
   "execution_count": 100,
   "id": "c676a6b9-7d55-4b95-8dbb-c579b0346eb5",
   "metadata": {},
   "outputs": [
    {
     "name": "stdout",
     "output_type": "stream",
     "text": [
      "['ain', 'ain']\n",
      "[]\n"
     ]
    }
   ],
   "source": [
    "txt = \"The rain in Spain\"\n",
    "print(re.findall(r\"\\Bain\", txt))  \n",
    "print(re.findall(r\"ain\\B\", txt))  \n"
   ]
  },
  {
   "cell_type": "code",
   "execution_count": 101,
   "id": "7b1cd8db-ff76-457e-9410-e1f65f4dc8dd",
   "metadata": {},
   "outputs": [
    {
     "name": "stdout",
     "output_type": "stream",
     "text": [
      "['r', 'a', 'n', 'a', 'n', 'n']\n"
     ]
    }
   ],
   "source": [
    "\n",
    "txt = \"rain and sun\"\n",
    "print(re.findall(\"[arn]\", txt))\n"
   ]
  },
  {
   "cell_type": "code",
   "execution_count": 102,
   "id": "fb17a8c6-7144-4deb-963e-c509913ceff6",
   "metadata": {},
   "outputs": [
    {
     "name": "stdout",
     "output_type": "stream",
     "text": [
      "['h', 'e', 'l', 'l', 'l', 'd']\n"
     ]
    }
   ],
   "source": [
    "txt = \"hello world\"\n",
    "print(re.findall(\"[a-n]\", txt))\n"
   ]
  },
  {
   "cell_type": "code",
   "execution_count": 103,
   "id": "3b028d57-6799-4206-900c-d2745faf17e4",
   "metadata": {},
   "outputs": [
    {
     "name": "stdout",
     "output_type": "stream",
     "text": [
      "['i', ' ', 'd', ' ', 's', 'u']\n"
     ]
    }
   ],
   "source": [
    "#[^] match character not in set\n",
    "txt = \"rain and sun\"\n",
    "print(re.findall(\"[^arn]\", txt))\n"
   ]
  },
  {
   "cell_type": "code",
   "execution_count": 105,
   "id": "33b4499c-4f7c-43ef-a50a-3ae3bb2499a8",
   "metadata": {},
   "outputs": [
    {
     "name": "stdout",
     "output_type": "stream",
     "text": [
      "['00', '12', '35', '59']\n"
     ]
    }
   ],
   "source": [
    "txt = \"Times: 00, 12, 35, 59,4,6, 61\"\n",
    "print(re.findall(\"[0-5][0-9]\", txt))\n"
   ]
  },
  {
   "cell_type": "code",
   "execution_count": 106,
   "id": "cb65cc04-b672-4691-b429-7a1d2d646475",
   "metadata": {},
   "outputs": [
    {
     "name": "stdout",
     "output_type": "stream",
     "text": [
      "['H', 'e', 'l', 'l', 'o', 'W', 'o', 'r', 'l', 'd']\n"
     ]
    }
   ],
   "source": [
    "txt = \"Hello World!\"\n",
    "print(re.findall(\"[a-zA-Z]\", txt))\n"
   ]
  },
  {
   "cell_type": "code",
   "execution_count": 107,
   "id": "f943b83a-ef50-4f65-b075-51480a10a9fc",
   "metadata": {},
   "outputs": [
    {
     "name": "stdout",
     "output_type": "stream",
     "text": [
      "['+']\n"
     ]
    }
   ],
   "source": [
    "txt = \"3 + 4 = 7\"\n",
    "print(re.findall(\"[+]\", txt))\n"
   ]
  },
  {
   "cell_type": "code",
   "execution_count": 114,
   "id": "8723a3ff-4349-4511-94cc-221f4de731ab",
   "metadata": {},
   "outputs": [
    {
     "name": "stdout",
     "output_type": "stream",
     "text": [
      "             time\n",
      "0 0 days 03:15:00\n",
      "1 0 days 02:00:00\n",
      "2 0 days 00:50:00\n",
      "3 0 days 00:00:00\n",
      "hour 0    3\n",
      "1    2\n",
      "2    0\n",
      "3    0\n",
      "Name: 0, dtype: int64 minutes 0    15\n",
      "1     0\n",
      "2    50\n",
      "3     0\n",
      "Name: 0, dtype: int64\n"
     ]
    }
   ],
   "source": [
    "df = pd.DataFrame({\n",
    "    'time': ['3 hrs 15 mins', '2 hr', '50 mins', None]\n",
    "})\n",
    "\n",
    "# Extract hours and minutes\n",
    "h = df['time'].str.extract(r'(\\d+)\\s*hrs?')[0].fillna(0).astype(int)\n",
    "m = df['time'].str.extract(r'(\\d+)\\s*mins?')[0].fillna(0).astype(int)\n",
    "\n",
    "# Convert to timedelta\n",
    "df['time'] = pd.to_timedelta(h*60 + m, unit='m')\n",
    "print(df)\n",
    "print(\"hour\",h,'minutes',m)\n"
   ]
  },
  {
   "cell_type": "code",
   "execution_count": 115,
   "id": "4d274b50-cc7a-49c3-b67e-2db9cccff713",
   "metadata": {},
   "outputs": [
    {
     "name": "stdout",
     "output_type": "stream",
     "text": [
      "                time  hours  minutes  duration_minutes\n",
      "0  2 hrs and 20 mins      2        0               120\n",
      "1             13 hrs     13        0               780\n",
      "2            45 mins      0       45                45\n",
      "3         1 hr 5 min      1        5                65\n",
      "4       3 hrs 0 mins      3        0               180\n"
     ]
    }
   ],
   "source": [
    "\n",
    "df = pd.DataFrame({\n",
    "    'time': ['2 hrs and 20 mins', '13 hrs', '45 mins', '1 hr 5 min', '3 hrs 0 mins']\n",
    "})\n",
    "\n",
    "df[['hours','minutes']] = df['time'].str.extract(r'(?:(\\d+)\\s*hrs?)?\\s*(?:(\\d+)\\s*mins?)?')\n",
    "df = df.fillna(0)\n",
    "df[['hours','minutes']] = df[['hours','minutes']].astype(int)\n",
    "\n",
    "df['duration_minutes'] = df['hours']*60 + df['minutes']\n",
    "print(df)"
   ]
  },
  {
   "cell_type": "code",
   "execution_count": 123,
   "id": "becf5bb2-3b47-4732-87b6-908db482965a",
   "metadata": {},
   "outputs": [
    {
     "name": "stdout",
     "output_type": "stream",
     "text": [
      "Full match: 8 hrs, Hours captured: 8\n",
      "Full match: 12hr, Hours captured: 12\n"
     ]
    }
   ],
   "source": [
    "import re\n",
    "\n",
    "text = \"Slept for 8 hrs and worked 12hr today\"\n",
    "\n",
    "pattern = r\"(?P<hours>\\d+)\\s*hrs?\"\n",
    "\n",
    "matches = re.finditer(pattern, text)\n",
    "for m in matches:\n",
    "    print(f\"Full match: {m.group(0)}, Hours captured: {m.group('hours')}\")\n"
   ]
  },
  {
   "cell_type": "code",
   "execution_count": 129,
   "id": "a4aa533f-af20-409a-884e-7cbbca8f232c",
   "metadata": {},
   "outputs": [
    {
     "name": "stdout",
     "output_type": "stream",
     "text": [
      "['<div>Hello</div><div>World</div>']\n"
     ]
    }
   ],
   "source": [
    "html = \"<div>Hello</div><div>World</div>\"\n",
    "non_greedy = re.findall(r'<div>.*</div>', html)\n",
    "print(non_greedy)"
   ]
  },
  {
   "cell_type": "code",
   "execution_count": 128,
   "id": "12591f42-04d4-4119-a824-12cbe373e045",
   "metadata": {},
   "outputs": [
    {
     "name": "stdout",
     "output_type": "stream",
     "text": [
      "['<div>Hello</div>', '<div>World</div>']\n"
     ]
    }
   ],
   "source": [
    "html = \"<div>Hello</div><div>World</div>\"\n",
    "non_greedy = re.findall(r'<div>.*?</div>', html)\n",
    "print(non_greedy)\n"
   ]
  },
  {
   "cell_type": "code",
   "execution_count": 130,
   "id": "68071d2b-6115-4a64-85a7-5ec65a35f804",
   "metadata": {},
   "outputs": [
    {
     "name": "stdout",
     "output_type": "stream",
     "text": [
      "['<think>some thoughts</think><code>']\n"
     ]
    }
   ],
   "source": [
    "text = \"<think>some thoughts</think><code>print('hi')</code>\"\n",
    "greedy = re.findall(r'^.*<code>', text)\n",
    "print(greedy)"
   ]
  },
  {
   "cell_type": "code",
   "execution_count": 133,
   "id": "da3e86e8-8f97-4798-992c-1aabeb40635a",
   "metadata": {},
   "outputs": [
    {
     "name": "stdout",
     "output_type": "stream",
     "text": [
      "<re.Match object; span=(0, 5), match='Hello'> None\n"
     ]
    }
   ],
   "source": [
    "text = \"Hello World\"\n",
    "\n",
    "x=re.match(r\"^Hello\", text)  \n",
    "y=re.match(r\"World\", text)   \n",
    "print(x,y)"
   ]
  },
  {
   "cell_type": "code",
   "execution_count": 136,
   "id": "7d3d4b0d-f034-40da-be8e-0138a85a08f3",
   "metadata": {},
   "outputs": [
    {
     "name": "stdout",
     "output_type": "stream",
     "text": [
      "['<think>some thoughts</think><code>']\n"
     ]
    }
   ],
   "source": [
    "text = \"<think>some thoughts</think><code>print('hi')</code>\"\n",
    "non_greedy = re.findall(r'^.*?<code>', text)\n",
    "print(non_greedy)\n"
   ]
  },
  {
   "cell_type": "code",
   "execution_count": 137,
   "id": "8dc72375-7497-451e-86cd-edf52da4154a",
   "metadata": {},
   "outputs": [
    {
     "name": "stdout",
     "output_type": "stream",
     "text": [
      "Full match: Rated 4.5 out of 5 stars\n",
      "Captured group 1 (the number): 4.5\n"
     ]
    }
   ],
   "source": [
    "txt = \"Rated 4.5 out of 5 stars\"\n",
    "\n",
    "# Regex pattern with a capture group\n",
    "pattern = r'^.*?(\\d+\\.?\\d*)\\s*out of\\s*5.*$'\n",
    "\n",
    "# Search using regex\n",
    "match = re.search(pattern, txt)\n",
    "\n",
    "if match:\n",
    "    print(\"Full match:\", match.group(0))   # Everything matched\n",
    "    print(\"Captured group 1 (the number):\", match.group(1))  # The number only"
   ]
  },
  {
   "cell_type": "code",
   "execution_count": 151,
   "id": "e54ba75e-f0ed-40d8-b76d-6a2fe576b148",
   "metadata": {},
   "outputs": [
    {
     "name": "stdout",
     "output_type": "stream",
     "text": [
      "49.99 $ Price: $49.99\n"
     ]
    }
   ],
   "source": [
    "txt = \"Price: $49.99\"\n",
    "# pattern = r'Price:\\s*(?:\\D(\\d+\\.\\d{2}))'\n",
    "pattern=r'(?P<Cprice>Price:\\s*(?P<Currency>\\D)(?P<Price>\\d+\\.\\d{2}))'\n",
    "\n",
    "match = re.search(pattern, txt)\n",
    "print(match.group('Price'),match.group('Currency'),match.group('Cprice'))\n"
   ]
  },
  {
   "cell_type": "code",
   "execution_count": null,
   "id": "f393daf7-4e53-4809-930f-ce72960a4f48",
   "metadata": {},
   "outputs": [],
   "source": []
  }
 ],
 "metadata": {
  "kernelspec": {
   "display_name": "Python [conda env:base] *",
   "language": "python",
   "name": "conda-base-py"
  },
  "language_info": {
   "codemirror_mode": {
    "name": "ipython",
    "version": 3
   },
   "file_extension": ".py",
   "mimetype": "text/x-python",
   "name": "python",
   "nbconvert_exporter": "python",
   "pygments_lexer": "ipython3",
   "version": "3.13.5"
  }
 },
 "nbformat": 4,
 "nbformat_minor": 5
}
